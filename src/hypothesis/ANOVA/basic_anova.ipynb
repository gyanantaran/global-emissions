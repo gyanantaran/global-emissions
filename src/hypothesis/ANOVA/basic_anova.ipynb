{
 "cells": [
  {
   "cell_type": "code",
   "execution_count": 2,
   "id": "initial_id",
   "metadata": {
    "collapsed": true,
    "ExecuteTime": {
     "end_time": "2023-12-07T22:01:18.143188Z",
     "start_time": "2023-12-07T22:01:18.137866Z"
    }
   },
   "outputs": [],
   "source": [
    "from src.preprocessing.categorisations.income_categories import emissions_df\n",
    "\n",
    "import pandas as pd\n",
    "from scipy.stats import ttest_ind, f_oneway"
   ]
  },
  {
   "cell_type": "code",
   "execution_count": 3,
   "outputs": [
    {
     "name": "stdout",
     "output_type": "stream",
     "text": [
      "ANOVA Result:\n",
      "F_onewayResult(statistic=97.44651126017096, pvalue=2.1394665125937088e-101)\n"
     ]
    }
   ],
   "source": [
    "# THIS IS WRONG, NEED TO DO THIS FOR A SPECIFIC YEAR,\n",
    "# OR A LIST OF YEARS\n",
    "# =========================================================\n",
    "# Hypothesis Test 1: Compare emissions between income categories\n",
    "# One-way ANOVA test\n",
    "anova_result = f_oneway(\n",
    "    emissions_df['Emissions.Production.CO2.Cement'],\n",
    "    emissions_df['Emissions.Production.CO2.Coal'],\n",
    "    emissions_df['Emissions.Production.CO2.Gas'],\n",
    "    emissions_df['Emissions.Production.CO2.Oil'],\n",
    "    emissions_df['Emissions.Production.CO2.Flaring'],\n",
    "    emissions_df['Emissions.Production.CO2.Other']\n",
    ")\n",
    "\n",
    "print(\"ANOVA Result:\")\n",
    "print(anova_result)"
   ],
   "metadata": {
    "collapsed": false,
    "ExecuteTime": {
     "end_time": "2023-12-07T22:01:29.551168Z",
     "start_time": "2023-12-07T22:01:29.545586Z"
    }
   },
   "id": "25c24a31daeb833e"
  },
  {
   "cell_type": "markdown",
   "source": [
    "## As expected the sources differ significantly"
   ],
   "metadata": {
    "collapsed": false
   },
   "id": "a65d3e2d76ea3f99"
  },
  {
   "cell_type": "code",
   "execution_count": 5,
   "outputs": [
    {
     "name": "stdout",
     "output_type": "stream",
     "text": [
      "T-Test Result:\n",
      "TtestResult(statistic=-1.8702842072362416, pvalue=0.06165965777700617, df=1356.0)\n"
     ]
    }
   ],
   "source": [
    "# Hypothesis Test 2: Compare emissions between low and high-income countries\n",
    "low_income = emissions_df[emissions_df['GDP_Category'] == 'Low-income']\n",
    "high_income = emissions_df[emissions_df['GDP_Category'] == 'High-income']\n",
    "\n",
    "t_test_result = ttest_ind(\n",
    "    low_income['Emissions.Production.CO2.Total'],\n",
    "    high_income['Emissions.Production.CO2.Total']\n",
    ")\n",
    "\n",
    "print(\"T-Test Result:\")\n",
    "print(t_test_result)"
   ],
   "metadata": {
    "collapsed": false,
    "ExecuteTime": {
     "end_time": "2023-12-07T22:03:38.606993Z",
     "start_time": "2023-12-07T22:03:38.599814Z"
    }
   },
   "id": "fa9b6f21ac91f36f"
  },
  {
   "cell_type": "markdown",
   "source": [
    "## The above is of not much use\n",
    " \n",
    "As it is the combined (1992-2018) `Low-income` and `High-income`, emission \n",
    "where the same country may have become Low-income multiple times"
   ],
   "metadata": {
    "collapsed": false
   },
   "id": "729a8cd2fd855ba"
  },
  {
   "cell_type": "code",
   "execution_count": null,
   "outputs": [],
   "source": [],
   "metadata": {
    "collapsed": false
   },
   "id": "989488fcec97728c"
  }
 ],
 "metadata": {
  "kernelspec": {
   "display_name": "Python 3",
   "language": "python",
   "name": "python3"
  },
  "language_info": {
   "codemirror_mode": {
    "name": "ipython",
    "version": 2
   },
   "file_extension": ".py",
   "mimetype": "text/x-python",
   "name": "python",
   "nbconvert_exporter": "python",
   "pygments_lexer": "ipython2",
   "version": "2.7.6"
  }
 },
 "nbformat": 4,
 "nbformat_minor": 5
}
