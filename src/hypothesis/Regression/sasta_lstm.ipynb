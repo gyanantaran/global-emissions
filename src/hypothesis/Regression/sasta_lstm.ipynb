{
 "cells": [
  {
   "cell_type": "code",
   "execution_count": 1,
   "id": "initial_id",
   "metadata": {
    "collapsed": true,
    "ExecuteTime": {
     "end_time": "2023-12-08T18:42:02.212717Z",
     "start_time": "2023-12-08T18:42:02.197710Z"
    }
   },
   "outputs": [],
   "source": []
  },
  {
   "cell_type": "code",
   "execution_count": 3,
   "outputs": [],
   "source": [],
   "metadata": {
    "collapsed": false,
    "ExecuteTime": {
     "end_time": "2023-12-08T18:43:27.576795Z",
     "start_time": "2023-12-08T18:43:27.572661Z"
    }
   },
   "id": "ea364836749b39f3"
  },
  {
   "cell_type": "code",
   "execution_count": 4,
   "outputs": [
    {
     "data": {
      "text/plain": "[21377.597,\n 21604.804,\n 21719.016,\n 22178.202,\n 22806.31,\n 22884.01,\n 22735.752,\n 23006.882,\n 23664.305,\n 23867.75,\n 24416.857,\n 25667.61,\n 26829.645,\n 27755.015,\n 28643.834,\n 29465.69,\n 30018.076,\n 29605.242,\n 31274.643,\n 32369.897,\n 32852.349,\n 33109.535,\n 33329.932,\n 33236.098,\n 33168.681,\n 33571.637,\n 34232.722]"
     },
     "execution_count": 4,
     "metadata": {},
     "output_type": "execute_result"
    }
   ],
   "source": [
    "short_term_years = 4  # Last fea\n",
    "    "
   ],
   "metadata": {
    "collapsed": false,
    "ExecuteTime": {
     "end_time": "2023-12-08T18:43:29.711708Z",
     "start_time": "2023-12-08T18:43:29.701141Z"
    }
   },
   "id": "eca592b49d79d622"
  },
  {
   "cell_type": "code",
   "execution_count": null,
   "outputs": [],
   "source": [],
   "metadata": {
    "collapsed": false
   },
   "id": "a5d9dc60e31f68d8"
  }
 ],
 "metadata": {
  "kernelspec": {
   "display_name": "Python 3",
   "language": "python",
   "name": "python3"
  },
  "language_info": {
   "codemirror_mode": {
    "name": "ipython",
    "version": 2
   },
   "file_extension": ".py",
   "mimetype": "text/x-python",
   "name": "python",
   "nbconvert_exporter": "python",
   "pygments_lexer": "ipython2",
   "version": "2.7.6"
  }
 },
 "nbformat": 4,
 "nbformat_minor": 5
}
