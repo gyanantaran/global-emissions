{
 "cells": [
  {
   "cell_type": "code",
   "execution_count": 4,
   "outputs": [],
   "source": [
    "import pandas as pd\n",
    "from scipy.stats import ttest_ind, f_oneway\n",
    "import statsmodels.api as sm\n",
    "from statsmodels.formula.api import ols\n",
    "\n",
    "from src.categorisations.income_categories import emissions_df"
   ],
   "metadata": {
    "collapsed": false,
    "ExecuteTime": {
     "end_time": "2023-12-07T22:07:26.525467Z",
     "start_time": "2023-12-07T22:07:26.505056Z"
    }
   },
   "id": "58a31a52b208eaa9"
  },
  {
   "cell_type": "code",
   "execution_count": 5,
   "id": "initial_id",
   "metadata": {
    "collapsed": true,
    "ExecuteTime": {
     "end_time": "2023-12-07T22:07:31.302795Z",
     "start_time": "2023-12-07T22:07:30.967151Z"
    }
   },
   "outputs": [
    {
     "ename": "PatsyError",
     "evalue": "Error evaluating factor: NameError: name 'Emissions' is not defined\n    Emissions.Production.CO2.Total ~ GDP_Category\n    ^^^^^^^^^^^^^^^^^^^^^^^^^^^^^^",
     "output_type": "error",
     "traceback": [
      "\u001B[0;31m---------------------------------------------------------------------------\u001B[0m",
      "\u001B[0;31mNameError\u001B[0m                                 Traceback (most recent call last)",
      "File \u001B[0;32m/opt/homebrew/Caskroom/mambaforge/base/envs/stats/lib/python3.11/site-packages/patsy/compat.py:36\u001B[0m, in \u001B[0;36mcall_and_wrap_exc\u001B[0;34m(msg, origin, f, *args, **kwargs)\u001B[0m\n\u001B[1;32m     35\u001B[0m \u001B[38;5;28;01mtry\u001B[39;00m:\n\u001B[0;32m---> 36\u001B[0m     \u001B[38;5;28;01mreturn\u001B[39;00m \u001B[43mf\u001B[49m\u001B[43m(\u001B[49m\u001B[38;5;241;43m*\u001B[39;49m\u001B[43margs\u001B[49m\u001B[43m,\u001B[49m\u001B[43m \u001B[49m\u001B[38;5;241;43m*\u001B[39;49m\u001B[38;5;241;43m*\u001B[39;49m\u001B[43mkwargs\u001B[49m\u001B[43m)\u001B[49m\n\u001B[1;32m     37\u001B[0m \u001B[38;5;28;01mexcept\u001B[39;00m \u001B[38;5;167;01mException\u001B[39;00m \u001B[38;5;28;01mas\u001B[39;00m e:\n",
      "File \u001B[0;32m/opt/homebrew/Caskroom/mambaforge/base/envs/stats/lib/python3.11/site-packages/patsy/eval.py:169\u001B[0m, in \u001B[0;36mEvalEnvironment.eval\u001B[0;34m(self, expr, source_name, inner_namespace)\u001B[0m\n\u001B[1;32m    168\u001B[0m code \u001B[38;5;241m=\u001B[39m \u001B[38;5;28mcompile\u001B[39m(expr, source_name, \u001B[38;5;124m\"\u001B[39m\u001B[38;5;124meval\u001B[39m\u001B[38;5;124m\"\u001B[39m, \u001B[38;5;28mself\u001B[39m\u001B[38;5;241m.\u001B[39mflags, \u001B[38;5;28;01mFalse\u001B[39;00m)\n\u001B[0;32m--> 169\u001B[0m \u001B[38;5;28;01mreturn\u001B[39;00m \u001B[38;5;28;43meval\u001B[39;49m\u001B[43m(\u001B[49m\u001B[43mcode\u001B[49m\u001B[43m,\u001B[49m\u001B[43m \u001B[49m\u001B[43m{\u001B[49m\u001B[43m}\u001B[49m\u001B[43m,\u001B[49m\u001B[43m \u001B[49m\u001B[43mVarLookupDict\u001B[49m\u001B[43m(\u001B[49m\u001B[43m[\u001B[49m\u001B[43minner_namespace\u001B[49m\u001B[43m]\u001B[49m\n\u001B[1;32m    170\u001B[0m \u001B[43m                                    \u001B[49m\u001B[38;5;241;43m+\u001B[39;49m\u001B[43m \u001B[49m\u001B[38;5;28;43mself\u001B[39;49m\u001B[38;5;241;43m.\u001B[39;49m\u001B[43m_namespaces\u001B[49m\u001B[43m)\u001B[49m\u001B[43m)\u001B[49m\n",
      "File \u001B[0;32m<string>:1\u001B[0m\n",
      "\u001B[0;31mNameError\u001B[0m: name 'Emissions' is not defined",
      "\nThe above exception was the direct cause of the following exception:\n",
      "\u001B[0;31mPatsyError\u001B[0m                                Traceback (most recent call last)",
      "Cell \u001B[0;32mIn[5], line 3\u001B[0m\n\u001B[1;32m      1\u001B[0m \u001B[38;5;66;03m# Hypothesis Test 3: Regression analysis to explore relationships\u001B[39;00m\n\u001B[1;32m      2\u001B[0m \u001B[38;5;66;03m# Use Ordinary Least Squares (OLS) regression\u001B[39;00m\n\u001B[0;32m----> 3\u001B[0m model \u001B[38;5;241m=\u001B[39m \u001B[43mols\u001B[49m\u001B[43m(\u001B[49m\u001B[38;5;124;43m'\u001B[39;49m\u001B[38;5;124;43mEmissions.Production.CO2.Total ~ GDP_Category\u001B[39;49m\u001B[38;5;124;43m'\u001B[39;49m\u001B[43m,\u001B[49m\u001B[43m \u001B[49m\u001B[43mdata\u001B[49m\u001B[38;5;241;43m=\u001B[39;49m\u001B[43memissions_df\u001B[49m\u001B[43m)\u001B[49m\u001B[38;5;241m.\u001B[39mfit()\n\u001B[1;32m      4\u001B[0m anova_table \u001B[38;5;241m=\u001B[39m sm\u001B[38;5;241m.\u001B[39mstats\u001B[38;5;241m.\u001B[39manova_lm(model, typ\u001B[38;5;241m=\u001B[39m\u001B[38;5;241m2\u001B[39m)\n\u001B[1;32m      6\u001B[0m \u001B[38;5;28mprint\u001B[39m(\u001B[38;5;124m\"\u001B[39m\u001B[38;5;124mANOVA Table:\u001B[39m\u001B[38;5;124m\"\u001B[39m)\n",
      "File \u001B[0;32m/opt/homebrew/Caskroom/mambaforge/base/envs/stats/lib/python3.11/site-packages/statsmodels/base/model.py:203\u001B[0m, in \u001B[0;36mModel.from_formula\u001B[0;34m(cls, formula, data, subset, drop_cols, *args, **kwargs)\u001B[0m\n\u001B[1;32m    200\u001B[0m \u001B[38;5;28;01mif\u001B[39;00m missing \u001B[38;5;241m==\u001B[39m \u001B[38;5;124m'\u001B[39m\u001B[38;5;124mnone\u001B[39m\u001B[38;5;124m'\u001B[39m:  \u001B[38;5;66;03m# with patsy it's drop or raise. let's raise.\u001B[39;00m\n\u001B[1;32m    201\u001B[0m     missing \u001B[38;5;241m=\u001B[39m \u001B[38;5;124m'\u001B[39m\u001B[38;5;124mraise\u001B[39m\u001B[38;5;124m'\u001B[39m\n\u001B[0;32m--> 203\u001B[0m tmp \u001B[38;5;241m=\u001B[39m \u001B[43mhandle_formula_data\u001B[49m\u001B[43m(\u001B[49m\u001B[43mdata\u001B[49m\u001B[43m,\u001B[49m\u001B[43m \u001B[49m\u001B[38;5;28;43;01mNone\u001B[39;49;00m\u001B[43m,\u001B[49m\u001B[43m \u001B[49m\u001B[43mformula\u001B[49m\u001B[43m,\u001B[49m\u001B[43m \u001B[49m\u001B[43mdepth\u001B[49m\u001B[38;5;241;43m=\u001B[39;49m\u001B[43meval_env\u001B[49m\u001B[43m,\u001B[49m\n\u001B[1;32m    204\u001B[0m \u001B[43m                          \u001B[49m\u001B[43mmissing\u001B[49m\u001B[38;5;241;43m=\u001B[39;49m\u001B[43mmissing\u001B[49m\u001B[43m)\u001B[49m\n\u001B[1;32m    205\u001B[0m ((endog, exog), missing_idx, design_info) \u001B[38;5;241m=\u001B[39m tmp\n\u001B[1;32m    206\u001B[0m max_endog \u001B[38;5;241m=\u001B[39m \u001B[38;5;28mcls\u001B[39m\u001B[38;5;241m.\u001B[39m_formula_max_endog\n",
      "File \u001B[0;32m/opt/homebrew/Caskroom/mambaforge/base/envs/stats/lib/python3.11/site-packages/statsmodels/formula/formulatools.py:63\u001B[0m, in \u001B[0;36mhandle_formula_data\u001B[0;34m(Y, X, formula, depth, missing)\u001B[0m\n\u001B[1;32m     61\u001B[0m \u001B[38;5;28;01melse\u001B[39;00m:\n\u001B[1;32m     62\u001B[0m     \u001B[38;5;28;01mif\u001B[39;00m data_util\u001B[38;5;241m.\u001B[39m_is_using_pandas(Y, \u001B[38;5;28;01mNone\u001B[39;00m):\n\u001B[0;32m---> 63\u001B[0m         result \u001B[38;5;241m=\u001B[39m \u001B[43mdmatrices\u001B[49m\u001B[43m(\u001B[49m\u001B[43mformula\u001B[49m\u001B[43m,\u001B[49m\u001B[43m \u001B[49m\u001B[43mY\u001B[49m\u001B[43m,\u001B[49m\u001B[43m \u001B[49m\u001B[43mdepth\u001B[49m\u001B[43m,\u001B[49m\u001B[43m \u001B[49m\u001B[43mreturn_type\u001B[49m\u001B[38;5;241;43m=\u001B[39;49m\u001B[38;5;124;43m'\u001B[39;49m\u001B[38;5;124;43mdataframe\u001B[39;49m\u001B[38;5;124;43m'\u001B[39;49m\u001B[43m,\u001B[49m\n\u001B[1;32m     64\u001B[0m \u001B[43m                           \u001B[49m\u001B[43mNA_action\u001B[49m\u001B[38;5;241;43m=\u001B[39;49m\u001B[43mna_action\u001B[49m\u001B[43m)\u001B[49m\n\u001B[1;32m     65\u001B[0m     \u001B[38;5;28;01melse\u001B[39;00m:\n\u001B[1;32m     66\u001B[0m         result \u001B[38;5;241m=\u001B[39m dmatrices(formula, Y, depth, return_type\u001B[38;5;241m=\u001B[39m\u001B[38;5;124m'\u001B[39m\u001B[38;5;124mdataframe\u001B[39m\u001B[38;5;124m'\u001B[39m,\n\u001B[1;32m     67\u001B[0m                            NA_action\u001B[38;5;241m=\u001B[39mna_action)\n",
      "File \u001B[0;32m/opt/homebrew/Caskroom/mambaforge/base/envs/stats/lib/python3.11/site-packages/patsy/highlevel.py:309\u001B[0m, in \u001B[0;36mdmatrices\u001B[0;34m(formula_like, data, eval_env, NA_action, return_type)\u001B[0m\n\u001B[1;32m    299\u001B[0m \u001B[38;5;250m\u001B[39m\u001B[38;5;124;03m\"\"\"Construct two design matrices given a formula_like and data.\u001B[39;00m\n\u001B[1;32m    300\u001B[0m \n\u001B[1;32m    301\u001B[0m \u001B[38;5;124;03mThis function is identical to :func:`dmatrix`, except that it requires\u001B[39;00m\n\u001B[0;32m   (...)\u001B[0m\n\u001B[1;32m    306\u001B[0m \u001B[38;5;124;03mSee :func:`dmatrix` for details.\u001B[39;00m\n\u001B[1;32m    307\u001B[0m \u001B[38;5;124;03m\"\"\"\u001B[39;00m\n\u001B[1;32m    308\u001B[0m eval_env \u001B[38;5;241m=\u001B[39m EvalEnvironment\u001B[38;5;241m.\u001B[39mcapture(eval_env, reference\u001B[38;5;241m=\u001B[39m\u001B[38;5;241m1\u001B[39m)\n\u001B[0;32m--> 309\u001B[0m (lhs, rhs) \u001B[38;5;241m=\u001B[39m \u001B[43m_do_highlevel_design\u001B[49m\u001B[43m(\u001B[49m\u001B[43mformula_like\u001B[49m\u001B[43m,\u001B[49m\u001B[43m \u001B[49m\u001B[43mdata\u001B[49m\u001B[43m,\u001B[49m\u001B[43m \u001B[49m\u001B[43meval_env\u001B[49m\u001B[43m,\u001B[49m\n\u001B[1;32m    310\u001B[0m \u001B[43m                                  \u001B[49m\u001B[43mNA_action\u001B[49m\u001B[43m,\u001B[49m\u001B[43m \u001B[49m\u001B[43mreturn_type\u001B[49m\u001B[43m)\u001B[49m\n\u001B[1;32m    311\u001B[0m \u001B[38;5;28;01mif\u001B[39;00m lhs\u001B[38;5;241m.\u001B[39mshape[\u001B[38;5;241m1\u001B[39m] \u001B[38;5;241m==\u001B[39m \u001B[38;5;241m0\u001B[39m:\n\u001B[1;32m    312\u001B[0m     \u001B[38;5;28;01mraise\u001B[39;00m PatsyError(\u001B[38;5;124m\"\u001B[39m\u001B[38;5;124mmodel is missing required outcome variables\u001B[39m\u001B[38;5;124m\"\u001B[39m)\n",
      "File \u001B[0;32m/opt/homebrew/Caskroom/mambaforge/base/envs/stats/lib/python3.11/site-packages/patsy/highlevel.py:164\u001B[0m, in \u001B[0;36m_do_highlevel_design\u001B[0;34m(formula_like, data, eval_env, NA_action, return_type)\u001B[0m\n\u001B[1;32m    162\u001B[0m \u001B[38;5;28;01mdef\u001B[39;00m \u001B[38;5;21mdata_iter_maker\u001B[39m():\n\u001B[1;32m    163\u001B[0m     \u001B[38;5;28;01mreturn\u001B[39;00m \u001B[38;5;28miter\u001B[39m([data])\n\u001B[0;32m--> 164\u001B[0m design_infos \u001B[38;5;241m=\u001B[39m \u001B[43m_try_incr_builders\u001B[49m\u001B[43m(\u001B[49m\u001B[43mformula_like\u001B[49m\u001B[43m,\u001B[49m\u001B[43m \u001B[49m\u001B[43mdata_iter_maker\u001B[49m\u001B[43m,\u001B[49m\u001B[43m \u001B[49m\u001B[43meval_env\u001B[49m\u001B[43m,\u001B[49m\n\u001B[1;32m    165\u001B[0m \u001B[43m                                  \u001B[49m\u001B[43mNA_action\u001B[49m\u001B[43m)\u001B[49m\n\u001B[1;32m    166\u001B[0m \u001B[38;5;28;01mif\u001B[39;00m design_infos \u001B[38;5;129;01mis\u001B[39;00m \u001B[38;5;129;01mnot\u001B[39;00m \u001B[38;5;28;01mNone\u001B[39;00m:\n\u001B[1;32m    167\u001B[0m     \u001B[38;5;28;01mreturn\u001B[39;00m build_design_matrices(design_infos, data,\n\u001B[1;32m    168\u001B[0m                                  NA_action\u001B[38;5;241m=\u001B[39mNA_action,\n\u001B[1;32m    169\u001B[0m                                  return_type\u001B[38;5;241m=\u001B[39mreturn_type)\n",
      "File \u001B[0;32m/opt/homebrew/Caskroom/mambaforge/base/envs/stats/lib/python3.11/site-packages/patsy/highlevel.py:66\u001B[0m, in \u001B[0;36m_try_incr_builders\u001B[0;34m(formula_like, data_iter_maker, eval_env, NA_action)\u001B[0m\n\u001B[1;32m     64\u001B[0m \u001B[38;5;28;01mif\u001B[39;00m \u001B[38;5;28misinstance\u001B[39m(formula_like, ModelDesc):\n\u001B[1;32m     65\u001B[0m     \u001B[38;5;28;01massert\u001B[39;00m \u001B[38;5;28misinstance\u001B[39m(eval_env, EvalEnvironment)\n\u001B[0;32m---> 66\u001B[0m     \u001B[38;5;28;01mreturn\u001B[39;00m \u001B[43mdesign_matrix_builders\u001B[49m\u001B[43m(\u001B[49m\u001B[43m[\u001B[49m\u001B[43mformula_like\u001B[49m\u001B[38;5;241;43m.\u001B[39;49m\u001B[43mlhs_termlist\u001B[49m\u001B[43m,\u001B[49m\n\u001B[1;32m     67\u001B[0m \u001B[43m                                   \u001B[49m\u001B[43mformula_like\u001B[49m\u001B[38;5;241;43m.\u001B[39;49m\u001B[43mrhs_termlist\u001B[49m\u001B[43m]\u001B[49m\u001B[43m,\u001B[49m\n\u001B[1;32m     68\u001B[0m \u001B[43m                                  \u001B[49m\u001B[43mdata_iter_maker\u001B[49m\u001B[43m,\u001B[49m\n\u001B[1;32m     69\u001B[0m \u001B[43m                                  \u001B[49m\u001B[43meval_env\u001B[49m\u001B[43m,\u001B[49m\n\u001B[1;32m     70\u001B[0m \u001B[43m                                  \u001B[49m\u001B[43mNA_action\u001B[49m\u001B[43m)\u001B[49m\n\u001B[1;32m     71\u001B[0m \u001B[38;5;28;01melse\u001B[39;00m:\n\u001B[1;32m     72\u001B[0m     \u001B[38;5;28;01mreturn\u001B[39;00m \u001B[38;5;28;01mNone\u001B[39;00m\n",
      "File \u001B[0;32m/opt/homebrew/Caskroom/mambaforge/base/envs/stats/lib/python3.11/site-packages/patsy/build.py:693\u001B[0m, in \u001B[0;36mdesign_matrix_builders\u001B[0;34m(termlists, data_iter_maker, eval_env, NA_action)\u001B[0m\n\u001B[1;32m    689\u001B[0m factor_states \u001B[38;5;241m=\u001B[39m _factors_memorize(all_factors, data_iter_maker, eval_env)\n\u001B[1;32m    690\u001B[0m \u001B[38;5;66;03m# Now all the factors have working eval methods, so we can evaluate them\u001B[39;00m\n\u001B[1;32m    691\u001B[0m \u001B[38;5;66;03m# on some data to find out what type of data they return.\u001B[39;00m\n\u001B[1;32m    692\u001B[0m (num_column_counts,\n\u001B[0;32m--> 693\u001B[0m  cat_levels_contrasts) \u001B[38;5;241m=\u001B[39m \u001B[43m_examine_factor_types\u001B[49m\u001B[43m(\u001B[49m\u001B[43mall_factors\u001B[49m\u001B[43m,\u001B[49m\n\u001B[1;32m    694\u001B[0m \u001B[43m                                               \u001B[49m\u001B[43mfactor_states\u001B[49m\u001B[43m,\u001B[49m\n\u001B[1;32m    695\u001B[0m \u001B[43m                                               \u001B[49m\u001B[43mdata_iter_maker\u001B[49m\u001B[43m,\u001B[49m\n\u001B[1;32m    696\u001B[0m \u001B[43m                                               \u001B[49m\u001B[43mNA_action\u001B[49m\u001B[43m)\u001B[49m\n\u001B[1;32m    697\u001B[0m \u001B[38;5;66;03m# Now we need the factor infos, which encapsulate the knowledge of\u001B[39;00m\n\u001B[1;32m    698\u001B[0m \u001B[38;5;66;03m# how to turn any given factor into a chunk of data:\u001B[39;00m\n\u001B[1;32m    699\u001B[0m factor_infos \u001B[38;5;241m=\u001B[39m {}\n",
      "File \u001B[0;32m/opt/homebrew/Caskroom/mambaforge/base/envs/stats/lib/python3.11/site-packages/patsy/build.py:443\u001B[0m, in \u001B[0;36m_examine_factor_types\u001B[0;34m(factors, factor_states, data_iter_maker, NA_action)\u001B[0m\n\u001B[1;32m    441\u001B[0m \u001B[38;5;28;01mfor\u001B[39;00m data \u001B[38;5;129;01min\u001B[39;00m data_iter_maker():\n\u001B[1;32m    442\u001B[0m     \u001B[38;5;28;01mfor\u001B[39;00m factor \u001B[38;5;129;01min\u001B[39;00m \u001B[38;5;28mlist\u001B[39m(examine_needed):\n\u001B[0;32m--> 443\u001B[0m         value \u001B[38;5;241m=\u001B[39m \u001B[43mfactor\u001B[49m\u001B[38;5;241;43m.\u001B[39;49m\u001B[43meval\u001B[49m\u001B[43m(\u001B[49m\u001B[43mfactor_states\u001B[49m\u001B[43m[\u001B[49m\u001B[43mfactor\u001B[49m\u001B[43m]\u001B[49m\u001B[43m,\u001B[49m\u001B[43m \u001B[49m\u001B[43mdata\u001B[49m\u001B[43m)\u001B[49m\n\u001B[1;32m    444\u001B[0m         \u001B[38;5;28;01mif\u001B[39;00m factor \u001B[38;5;129;01min\u001B[39;00m cat_sniffers \u001B[38;5;129;01mor\u001B[39;00m guess_categorical(value):\n\u001B[1;32m    445\u001B[0m             \u001B[38;5;28;01mif\u001B[39;00m factor \u001B[38;5;129;01mnot\u001B[39;00m \u001B[38;5;129;01min\u001B[39;00m cat_sniffers:\n",
      "File \u001B[0;32m/opt/homebrew/Caskroom/mambaforge/base/envs/stats/lib/python3.11/site-packages/patsy/eval.py:568\u001B[0m, in \u001B[0;36mEvalFactor.eval\u001B[0;34m(self, memorize_state, data)\u001B[0m\n\u001B[1;32m    567\u001B[0m \u001B[38;5;28;01mdef\u001B[39;00m \u001B[38;5;21meval\u001B[39m(\u001B[38;5;28mself\u001B[39m, memorize_state, data):\n\u001B[0;32m--> 568\u001B[0m     \u001B[38;5;28;01mreturn\u001B[39;00m \u001B[38;5;28;43mself\u001B[39;49m\u001B[38;5;241;43m.\u001B[39;49m\u001B[43m_eval\u001B[49m\u001B[43m(\u001B[49m\u001B[43mmemorize_state\u001B[49m\u001B[43m[\u001B[49m\u001B[38;5;124;43m\"\u001B[39;49m\u001B[38;5;124;43meval_code\u001B[39;49m\u001B[38;5;124;43m\"\u001B[39;49m\u001B[43m]\u001B[49m\u001B[43m,\u001B[49m\n\u001B[1;32m    569\u001B[0m \u001B[43m                      \u001B[49m\u001B[43mmemorize_state\u001B[49m\u001B[43m,\u001B[49m\n\u001B[1;32m    570\u001B[0m \u001B[43m                      \u001B[49m\u001B[43mdata\u001B[49m\u001B[43m)\u001B[49m\n",
      "File \u001B[0;32m/opt/homebrew/Caskroom/mambaforge/base/envs/stats/lib/python3.11/site-packages/patsy/eval.py:551\u001B[0m, in \u001B[0;36mEvalFactor._eval\u001B[0;34m(self, code, memorize_state, data)\u001B[0m\n\u001B[1;32m    549\u001B[0m \u001B[38;5;28;01mdef\u001B[39;00m \u001B[38;5;21m_eval\u001B[39m(\u001B[38;5;28mself\u001B[39m, code, memorize_state, data):\n\u001B[1;32m    550\u001B[0m     inner_namespace \u001B[38;5;241m=\u001B[39m VarLookupDict([data, memorize_state[\u001B[38;5;124m\"\u001B[39m\u001B[38;5;124mtransforms\u001B[39m\u001B[38;5;124m\"\u001B[39m]])\n\u001B[0;32m--> 551\u001B[0m     \u001B[38;5;28;01mreturn\u001B[39;00m \u001B[43mcall_and_wrap_exc\u001B[49m\u001B[43m(\u001B[49m\u001B[38;5;124;43m\"\u001B[39;49m\u001B[38;5;124;43mError evaluating factor\u001B[39;49m\u001B[38;5;124;43m\"\u001B[39;49m\u001B[43m,\u001B[49m\n\u001B[1;32m    552\u001B[0m \u001B[43m                             \u001B[49m\u001B[38;5;28;43mself\u001B[39;49m\u001B[43m,\u001B[49m\n\u001B[1;32m    553\u001B[0m \u001B[43m                             \u001B[49m\u001B[43mmemorize_state\u001B[49m\u001B[43m[\u001B[49m\u001B[38;5;124;43m\"\u001B[39;49m\u001B[38;5;124;43meval_env\u001B[39;49m\u001B[38;5;124;43m\"\u001B[39;49m\u001B[43m]\u001B[49m\u001B[38;5;241;43m.\u001B[39;49m\u001B[43meval\u001B[49m\u001B[43m,\u001B[49m\n\u001B[1;32m    554\u001B[0m \u001B[43m                             \u001B[49m\u001B[43mcode\u001B[49m\u001B[43m,\u001B[49m\n\u001B[1;32m    555\u001B[0m \u001B[43m                             \u001B[49m\u001B[43minner_namespace\u001B[49m\u001B[38;5;241;43m=\u001B[39;49m\u001B[43minner_namespace\u001B[49m\u001B[43m)\u001B[49m\n",
      "File \u001B[0;32m/opt/homebrew/Caskroom/mambaforge/base/envs/stats/lib/python3.11/site-packages/patsy/compat.py:43\u001B[0m, in \u001B[0;36mcall_and_wrap_exc\u001B[0;34m(msg, origin, f, *args, **kwargs)\u001B[0m\n\u001B[1;32m     39\u001B[0m     new_exc \u001B[38;5;241m=\u001B[39m PatsyError(\u001B[38;5;124m\"\u001B[39m\u001B[38;5;132;01m%s\u001B[39;00m\u001B[38;5;124m: \u001B[39m\u001B[38;5;132;01m%s\u001B[39;00m\u001B[38;5;124m: \u001B[39m\u001B[38;5;132;01m%s\u001B[39;00m\u001B[38;5;124m\"\u001B[39m\n\u001B[1;32m     40\u001B[0m                          \u001B[38;5;241m%\u001B[39m (msg, e\u001B[38;5;241m.\u001B[39m\u001B[38;5;18m__class__\u001B[39m\u001B[38;5;241m.\u001B[39m\u001B[38;5;18m__name__\u001B[39m, e),\n\u001B[1;32m     41\u001B[0m                          origin)\n\u001B[1;32m     42\u001B[0m     \u001B[38;5;66;03m# Use 'exec' to hide this syntax from the Python 2 parser:\u001B[39;00m\n\u001B[0;32m---> 43\u001B[0m     \u001B[43mexec\u001B[49m\u001B[43m(\u001B[49m\u001B[38;5;124;43m\"\u001B[39;49m\u001B[38;5;124;43mraise new_exc from e\u001B[39;49m\u001B[38;5;124;43m\"\u001B[39;49m\u001B[43m)\u001B[49m\n\u001B[1;32m     44\u001B[0m \u001B[38;5;28;01melse\u001B[39;00m:\n\u001B[1;32m     45\u001B[0m     \u001B[38;5;66;03m# In python 2, we just let the original exception escape -- better\u001B[39;00m\n\u001B[1;32m     46\u001B[0m     \u001B[38;5;66;03m# than destroying the traceback. But if it's a PatsyError, we can\u001B[39;00m\n\u001B[1;32m     47\u001B[0m     \u001B[38;5;66;03m# at least set the origin properly.\u001B[39;00m\n\u001B[1;32m     48\u001B[0m     \u001B[38;5;28;01mif\u001B[39;00m \u001B[38;5;28misinstance\u001B[39m(e, PatsyError):\n",
      "File \u001B[0;32m<string>:1\u001B[0m\n",
      "\u001B[0;31mPatsyError\u001B[0m: Error evaluating factor: NameError: name 'Emissions' is not defined\n    Emissions.Production.CO2.Total ~ GDP_Category\n    ^^^^^^^^^^^^^^^^^^^^^^^^^^^^^^"
     ]
    }
   ],
   "source": [
    "# Hypothesis Test 3: Regression analysis to explore relationships\n",
    "# Use Ordinary Least Squares (OLS) regression\n",
    "model = ols('Emissions.Production.CO2.Total ~ GDP_Category', data=emissions_df).fit()\n",
    "anova_table = sm.stats.anova_lm(model, typ=2)\n",
    "\n",
    "print(\"ANOVA Table:\")\n",
    "print(anova_table)"
   ]
  },
  {
   "cell_type": "code",
   "execution_count": null,
   "outputs": [],
   "source": [],
   "metadata": {
    "collapsed": false
   },
   "id": "bfc0f0257493a839"
  }
 ],
 "metadata": {
  "kernelspec": {
   "display_name": "Python 3",
   "language": "python",
   "name": "python3"
  },
  "language_info": {
   "codemirror_mode": {
    "name": "ipython",
    "version": 2
   },
   "file_extension": ".py",
   "mimetype": "text/x-python",
   "name": "python",
   "nbconvert_exporter": "python",
   "pygments_lexer": "ipython2",
   "version": "2.7.6"
  }
 },
 "nbformat": 4,
 "nbformat_minor": 5
}
